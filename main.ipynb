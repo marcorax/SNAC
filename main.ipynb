{
 "cells": [
  {
   "cell_type": "markdown",
   "metadata": {},
   "source": [
    "# SNAC \n",
    "### Spiking Neural Autoencoder for time series Compression\n",
    "\n",
    "This is a main script to test out the idea of Spiking neural networks compression of time series of sensor reads before packing up everyithing in a nice library.\n",
    "\n",
    "First things first lets load up some sensor readings from an Arduino IoT node!"
   ]
  },
  {
   "cell_type": "code",
   "execution_count": 6,
   "metadata": {},
   "outputs": [],
   "source": [
    "import numpy as np\n",
    "import csv\n",
    "\n",
    "# Sensor parameters\n",
    "sample_period = 1  # ms\n",
    "recording_length = 1e4  # ms\n",
    "n_samples = recording_length / sample_period\n",
    "\n",
    "ArduinoSensorsCSV = open(\"ArduinoSensors.csv\")\n",
    "sensor_recording = csv.reader(ArduinoSensorsCSV)\n",
    "sensor_data = np.array([dataread for dataread in sensor_recording])"
   ]
  }
 ],
 "metadata": {
  "kernelspec": {
   "display_name": "py_3.9",
   "language": "python",
   "name": "python3"
  },
  "language_info": {
   "codemirror_mode": {
    "name": "ipython",
    "version": 3
   },
   "file_extension": ".py",
   "mimetype": "text/x-python",
   "name": "python",
   "nbconvert_exporter": "python",
   "pygments_lexer": "ipython3",
   "version": "3.9.18"
  }
 },
 "nbformat": 4,
 "nbformat_minor": 2
}
