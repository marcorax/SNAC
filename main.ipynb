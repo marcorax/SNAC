{
 "cells": [
  {
   "cell_type": "markdown",
   "metadata": {},
   "source": [
    "# SNAC \n",
    "### Spiking Neural Autoencoder for time series Compression\n",
    "\n",
    "This is a main script to test out the idea of Spiking neural networks compression of time series of sensor reads before packing up everyithing in a nice library.\n",
    "\n",
    "First things first lets load up some sensor readings from an Arduino IoT node!"
   ]
  },
  {
   "cell_type": "code",
   "execution_count": 5,
   "metadata": {},
   "outputs": [
    {
     "name": "stdout",
     "output_type": "stream",
     "text": [
      "Torch device: AMD Radeon RX 7800 XT\n"
     ]
    }
   ],
   "source": [
    "import numpy as np\n",
    "import csv, torch\n",
    "import torch.nn as nn\n",
    "import torch.nn.functional as F\n",
    "import snntorch as snn\n",
    "import snntorch.functional as SF\n",
    "from snntorch import spikeplot as splt\n",
    "import matplotlib.pyplot as plt\n",
    "\n",
    "dtype = torch.float\n",
    "# See of the right GPU is selected\n",
    "device = torch.device(\"cuda\") if torch.cuda.is_available() else torch.device(\"cpu\")\n",
    "device_name = torch.cuda.get_device_name(device)\n",
    "\n",
    "print(\"Torch device: \" + device_name)\n",
    "\n",
    "# Sensor parameters\n",
    "sample_period = 1  # ms\n",
    "recording_length = 1e4  # ms\n",
    "n_samples = recording_length / sample_period\n",
    "\n",
    "ArduinoSensorsCSV = open(\"ArduinoSensors.csv\")\n",
    "sensor_recording = csv.reader(ArduinoSensorsCSV)\n",
    "sensor_data = np.array([dataread for dataread in sensor_recording])\n",
    "# Separate the three sensor readings\n",
    "acc = sensor_data[:3]  # Accelerometer\n",
    "mag = sensor_data[3:6]  # Magnetometer\n",
    "gyr = sensor_data[6:]  # Gyroscope"
   ]
  },
  {
   "cell_type": "markdown",
   "metadata": {},
   "source": [
    "#### Sim Parameters \n",
    "\n",
    "Let's define the Autoencoder parameters."
   ]
  },
  {
   "cell_type": "code",
   "execution_count": null,
   "metadata": {},
   "outputs": [],
   "source": [
    "# Network Architecture/Parameters\n",
    "# Encoder\n",
    "en_num_inputs = 3\n",
    "en_num_hidden = 30\n",
    "en_num_latent = 3\n",
    "# Decoder\n",
    "de_num_inputs = 3\n",
    "de_num_hidden_1 = 30\n",
    "de_num_hidden_2 = 30\n",
    "de_num_output = 3\n",
    "\n",
    "# Temporal Dynamics\n",
    "hid_beta = np.linspace(0.01, 0.99, en_num_hidden)\n",
    "# hid_beta = np.linspace(0.4,0.8,en_num_hidden)#best sofar test new\n",
    "hid_beta = torch.tensor(hid_beta, dtype=dtype)\n",
    "out_beta = 0.3\n",
    "hid_thresh = 40\n",
    "thresh = 0.01"
   ]
  }
 ],
 "metadata": {
  "kernelspec": {
   "display_name": "py_3.9",
   "language": "python",
   "name": "python3"
  },
  "language_info": {
   "codemirror_mode": {
    "name": "ipython",
    "version": 3
   },
   "file_extension": ".py",
   "mimetype": "text/x-python",
   "name": "python",
   "nbconvert_exporter": "python",
   "pygments_lexer": "ipython3",
   "version": "3.9.18"
  }
 },
 "nbformat": 4,
 "nbformat_minor": 2
}
